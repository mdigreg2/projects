{
 "cells": [
  {
   "cell_type": "code",
   "execution_count": 1,
   "metadata": {},
   "outputs": [
    {
     "data": {
      "text/html": [
       "<div>\n",
       "<style scoped>\n",
       "    .dataframe tbody tr th:only-of-type {\n",
       "        vertical-align: middle;\n",
       "    }\n",
       "\n",
       "    .dataframe tbody tr th {\n",
       "        vertical-align: top;\n",
       "    }\n",
       "\n",
       "    .dataframe thead th {\n",
       "        text-align: right;\n",
       "    }\n",
       "</style>\n",
       "<table border=\"1\" class=\"dataframe\">\n",
       "  <thead>\n",
       "    <tr style=\"text-align: right;\">\n",
       "      <th></th>\n",
       "      <th>income</th>\n",
       "      <th>firstDate</th>\n",
       "      <th>lastDate</th>\n",
       "      <th>amount</th>\n",
       "      <th>freqSales</th>\n",
       "      <th>saleSizeCode</th>\n",
       "      <th>starCustomer</th>\n",
       "      <th>lastSale</th>\n",
       "      <th>avrSale</th>\n",
       "      <th>class</th>\n",
       "    </tr>\n",
       "  </thead>\n",
       "  <tbody>\n",
       "    <tr>\n",
       "      <td>0</td>\n",
       "      <td>3</td>\n",
       "      <td>9409</td>\n",
       "      <td>9509</td>\n",
       "      <td>0.06</td>\n",
       "      <td>1</td>\n",
       "      <td>G</td>\n",
       "      <td>0</td>\n",
       "      <td>50</td>\n",
       "      <td>30.00</td>\n",
       "      <td>0</td>\n",
       "    </tr>\n",
       "    <tr>\n",
       "      <td>1</td>\n",
       "      <td>2</td>\n",
       "      <td>9201</td>\n",
       "      <td>9602</td>\n",
       "      <td>0.16</td>\n",
       "      <td>4</td>\n",
       "      <td>G</td>\n",
       "      <td>X</td>\n",
       "      <td>20</td>\n",
       "      <td>20.55</td>\n",
       "      <td>1</td>\n",
       "    </tr>\n",
       "    <tr>\n",
       "      <td>2</td>\n",
       "      <td>0</td>\n",
       "      <td>9510</td>\n",
       "      <td>9603</td>\n",
       "      <td>0.20</td>\n",
       "      <td>4</td>\n",
       "      <td>E</td>\n",
       "      <td>0</td>\n",
       "      <td>5</td>\n",
       "      <td>8.75</td>\n",
       "      <td>0</td>\n",
       "    </tr>\n",
       "    <tr>\n",
       "      <td>3</td>\n",
       "      <td>6</td>\n",
       "      <td>9409</td>\n",
       "      <td>9603</td>\n",
       "      <td>0.13</td>\n",
       "      <td>2</td>\n",
       "      <td>G</td>\n",
       "      <td>0</td>\n",
       "      <td>25</td>\n",
       "      <td>22.50</td>\n",
       "      <td>0</td>\n",
       "    </tr>\n",
       "    <tr>\n",
       "      <td>4</td>\n",
       "      <td>0</td>\n",
       "      <td>9310</td>\n",
       "      <td>9511</td>\n",
       "      <td>0.10</td>\n",
       "      <td>1</td>\n",
       "      <td>G</td>\n",
       "      <td>0</td>\n",
       "      <td>25</td>\n",
       "      <td>12.50</td>\n",
       "      <td>0</td>\n",
       "    </tr>\n",
       "    <tr>\n",
       "      <td>5</td>\n",
       "      <td>2</td>\n",
       "      <td>9601</td>\n",
       "      <td>9609</td>\n",
       "      <td>0.14</td>\n",
       "      <td>2</td>\n",
       "      <td>F</td>\n",
       "      <td>0</td>\n",
       "      <td>5</td>\n",
       "      <td>7.75</td>\n",
       "      <td>0</td>\n",
       "    </tr>\n",
       "    <tr>\n",
       "      <td>6</td>\n",
       "      <td>7</td>\n",
       "      <td>9510</td>\n",
       "      <td>9510</td>\n",
       "      <td>0.06</td>\n",
       "      <td>1</td>\n",
       "      <td>G</td>\n",
       "      <td>0</td>\n",
       "      <td>25</td>\n",
       "      <td>25.00</td>\n",
       "      <td>0</td>\n",
       "    </tr>\n",
       "    <tr>\n",
       "      <td>7</td>\n",
       "      <td>5</td>\n",
       "      <td>9209</td>\n",
       "      <td>9512</td>\n",
       "      <td>0.39</td>\n",
       "      <td>4</td>\n",
       "      <td>E</td>\n",
       "      <td>X</td>\n",
       "      <td>10</td>\n",
       "      <td>7.65</td>\n",
       "      <td>0</td>\n",
       "    </tr>\n",
       "    <tr>\n",
       "      <td>8</td>\n",
       "      <td>6</td>\n",
       "      <td>8702</td>\n",
       "      <td>9511</td>\n",
       "      <td>0.16</td>\n",
       "      <td>2</td>\n",
       "      <td>E</td>\n",
       "      <td>X</td>\n",
       "      <td>14</td>\n",
       "      <td>9.30</td>\n",
       "      <td>0</td>\n",
       "    </tr>\n",
       "    <tr>\n",
       "      <td>9</td>\n",
       "      <td>0</td>\n",
       "      <td>9103</td>\n",
       "      <td>9508</td>\n",
       "      <td>0.23</td>\n",
       "      <td>1</td>\n",
       "      <td>E</td>\n",
       "      <td>X</td>\n",
       "      <td>11</td>\n",
       "      <td>9.15</td>\n",
       "      <td>0</td>\n",
       "    </tr>\n",
       "  </tbody>\n",
       "</table>\n",
       "</div>"
      ],
      "text/plain": [
       "   income  firstDate  lastDate  amount  freqSales saleSizeCode starCustomer  \\\n",
       "0       3       9409      9509    0.06          1            G            0   \n",
       "1       2       9201      9602    0.16          4            G            X   \n",
       "2       0       9510      9603    0.20          4            E            0   \n",
       "3       6       9409      9603    0.13          2            G            0   \n",
       "4       0       9310      9511    0.10          1            G            0   \n",
       "5       2       9601      9609    0.14          2            F            0   \n",
       "6       7       9510      9510    0.06          1            G            0   \n",
       "7       5       9209      9512    0.39          4            E            X   \n",
       "8       6       8702      9511    0.16          2            E            X   \n",
       "9       0       9103      9508    0.23          1            E            X   \n",
       "\n",
       "   lastSale  avrSale  class  \n",
       "0        50    30.00      0  \n",
       "1        20    20.55      1  \n",
       "2         5     8.75      0  \n",
       "3        25    22.50      0  \n",
       "4        25    12.50      0  \n",
       "5         5     7.75      0  \n",
       "6        25    25.00      0  \n",
       "7        10     7.65      0  \n",
       "8        14     9.30      0  \n",
       "9        11     9.15      0  "
      ]
     },
     "execution_count": 1,
     "metadata": {},
     "output_type": "execute_result"
    }
   ],
   "source": [
    "import os\n",
    "import sklearn\n",
    "import pandas as pd\n",
    "import numpy as np\n",
    "import matplotlib.pyplot as pt\n",
    "import seaborn as sns\n",
    "\n",
    "path = \"../../../advTimeSeriesMachineLearning/dataSets/directMarketing.csv\"\n",
    "df_raw = pd.read_csv(path)\n",
    "df_raw.head(10)"
   ]
  },
  {
   "cell_type": "markdown",
   "metadata": {},
   "source": [
    "Now that the data is loaded lets take a look at whats in it"
   ]
  },
  {
   "cell_type": "code",
   "execution_count": 2,
   "metadata": {},
   "outputs": [
    {
     "data": {
      "text/plain": [
       "count     100000\n",
       "unique         2\n",
       "top            0\n",
       "freq       52537\n",
       "Name: starCustomer, dtype: object"
      ]
     },
     "execution_count": 2,
     "metadata": {},
     "output_type": "execute_result"
    }
   ],
   "source": [
    "df_raw.starCustomer.describe()"
   ]
  },
  {
   "cell_type": "markdown",
   "metadata": {},
   "source": [
    "Alright, from describing multiple columns it can be established that income, freqSales, saleSizeCode are categorical variables which have some intrinsic scale\n",
    "\n",
    "starCustomer, class are nonmetric variables which serve as indicators\n",
    "\n",
    "firstDate, lastDate, amount, avrSale, lastSale are all metric continuous variables"
   ]
  },
  {
   "cell_type": "code",
   "execution_count": 3,
   "metadata": {},
   "outputs": [],
   "source": [
    "metric_var = [\"firstDate\", \"lastDate\", \"amount\", \"avrSale\", \"lastSale\"]\n",
    "cat_var = [\"starCustomer\"]\n",
    "#short for quantized\n",
    "quant_var = [\"income\", \"freqSales\", \"saleSizeCode\"]\n",
    "target = \"class\""
   ]
  },
  {
   "cell_type": "markdown",
   "metadata": {},
   "source": [
    "Lets make some of these catergorical variables numerical"
   ]
  },
  {
   "cell_type": "code",
   "execution_count": 4,
   "metadata": {},
   "outputs": [],
   "source": [
    "df = df_raw\n",
    "df[\"starCustomer\"] = ((df.starCustomer == \"X\")).astype(int)"
   ]
  },
  {
   "cell_type": "code",
   "execution_count": 5,
   "metadata": {},
   "outputs": [
    {
     "data": {
      "text/html": [
       "<div>\n",
       "<style scoped>\n",
       "    .dataframe tbody tr th:only-of-type {\n",
       "        vertical-align: middle;\n",
       "    }\n",
       "\n",
       "    .dataframe tbody tr th {\n",
       "        vertical-align: top;\n",
       "    }\n",
       "\n",
       "    .dataframe thead th {\n",
       "        text-align: right;\n",
       "    }\n",
       "</style>\n",
       "<table border=\"1\" class=\"dataframe\">\n",
       "  <thead>\n",
       "    <tr style=\"text-align: right;\">\n",
       "      <th></th>\n",
       "      <th>income</th>\n",
       "      <th>firstDate</th>\n",
       "      <th>lastDate</th>\n",
       "      <th>amount</th>\n",
       "      <th>freqSales</th>\n",
       "      <th>saleSizeCode</th>\n",
       "      <th>starCustomer</th>\n",
       "      <th>lastSale</th>\n",
       "      <th>avrSale</th>\n",
       "      <th>class</th>\n",
       "    </tr>\n",
       "  </thead>\n",
       "  <tbody>\n",
       "    <tr>\n",
       "      <td>0</td>\n",
       "      <td>3</td>\n",
       "      <td>9409</td>\n",
       "      <td>9509</td>\n",
       "      <td>0.06</td>\n",
       "      <td>1</td>\n",
       "      <td>G</td>\n",
       "      <td>0</td>\n",
       "      <td>50</td>\n",
       "      <td>30.00</td>\n",
       "      <td>0</td>\n",
       "    </tr>\n",
       "    <tr>\n",
       "      <td>1</td>\n",
       "      <td>2</td>\n",
       "      <td>9201</td>\n",
       "      <td>9602</td>\n",
       "      <td>0.16</td>\n",
       "      <td>4</td>\n",
       "      <td>G</td>\n",
       "      <td>1</td>\n",
       "      <td>20</td>\n",
       "      <td>20.55</td>\n",
       "      <td>1</td>\n",
       "    </tr>\n",
       "    <tr>\n",
       "      <td>2</td>\n",
       "      <td>0</td>\n",
       "      <td>9510</td>\n",
       "      <td>9603</td>\n",
       "      <td>0.20</td>\n",
       "      <td>4</td>\n",
       "      <td>E</td>\n",
       "      <td>0</td>\n",
       "      <td>5</td>\n",
       "      <td>8.75</td>\n",
       "      <td>0</td>\n",
       "    </tr>\n",
       "    <tr>\n",
       "      <td>3</td>\n",
       "      <td>6</td>\n",
       "      <td>9409</td>\n",
       "      <td>9603</td>\n",
       "      <td>0.13</td>\n",
       "      <td>2</td>\n",
       "      <td>G</td>\n",
       "      <td>0</td>\n",
       "      <td>25</td>\n",
       "      <td>22.50</td>\n",
       "      <td>0</td>\n",
       "    </tr>\n",
       "    <tr>\n",
       "      <td>4</td>\n",
       "      <td>0</td>\n",
       "      <td>9310</td>\n",
       "      <td>9511</td>\n",
       "      <td>0.10</td>\n",
       "      <td>1</td>\n",
       "      <td>G</td>\n",
       "      <td>0</td>\n",
       "      <td>25</td>\n",
       "      <td>12.50</td>\n",
       "      <td>0</td>\n",
       "    </tr>\n",
       "    <tr>\n",
       "      <td>5</td>\n",
       "      <td>2</td>\n",
       "      <td>9601</td>\n",
       "      <td>9609</td>\n",
       "      <td>0.14</td>\n",
       "      <td>2</td>\n",
       "      <td>F</td>\n",
       "      <td>0</td>\n",
       "      <td>5</td>\n",
       "      <td>7.75</td>\n",
       "      <td>0</td>\n",
       "    </tr>\n",
       "    <tr>\n",
       "      <td>6</td>\n",
       "      <td>7</td>\n",
       "      <td>9510</td>\n",
       "      <td>9510</td>\n",
       "      <td>0.06</td>\n",
       "      <td>1</td>\n",
       "      <td>G</td>\n",
       "      <td>0</td>\n",
       "      <td>25</td>\n",
       "      <td>25.00</td>\n",
       "      <td>0</td>\n",
       "    </tr>\n",
       "    <tr>\n",
       "      <td>7</td>\n",
       "      <td>5</td>\n",
       "      <td>9209</td>\n",
       "      <td>9512</td>\n",
       "      <td>0.39</td>\n",
       "      <td>4</td>\n",
       "      <td>E</td>\n",
       "      <td>1</td>\n",
       "      <td>10</td>\n",
       "      <td>7.65</td>\n",
       "      <td>0</td>\n",
       "    </tr>\n",
       "  </tbody>\n",
       "</table>\n",
       "</div>"
      ],
      "text/plain": [
       "   income  firstDate  lastDate  amount  freqSales saleSizeCode  starCustomer  \\\n",
       "0       3       9409      9509    0.06          1            G             0   \n",
       "1       2       9201      9602    0.16          4            G             1   \n",
       "2       0       9510      9603    0.20          4            E             0   \n",
       "3       6       9409      9603    0.13          2            G             0   \n",
       "4       0       9310      9511    0.10          1            G             0   \n",
       "5       2       9601      9609    0.14          2            F             0   \n",
       "6       7       9510      9510    0.06          1            G             0   \n",
       "7       5       9209      9512    0.39          4            E             1   \n",
       "\n",
       "   lastSale  avrSale  class  \n",
       "0        50    30.00      0  \n",
       "1        20    20.55      1  \n",
       "2         5     8.75      0  \n",
       "3        25    22.50      0  \n",
       "4        25    12.50      0  \n",
       "5         5     7.75      0  \n",
       "6        25    25.00      0  \n",
       "7        10     7.65      0  "
      ]
     },
     "execution_count": 5,
     "metadata": {},
     "output_type": "execute_result"
    }
   ],
   "source": [
    "df.head(8)"
   ]
  },
  {
   "cell_type": "code",
   "execution_count": 6,
   "metadata": {},
   "outputs": [
    {
     "name": "stderr",
     "output_type": "stream",
     "text": [
      "/home/mycicle/anaconda3/lib/python3.7/site-packages/ipykernel_launcher.py:3: SettingWithCopyWarning: \n",
      "A value is trying to be set on a copy of a slice from a DataFrame\n",
      "\n",
      "See the caveats in the documentation: http://pandas.pydata.org/pandas-docs/stable/user_guide/indexing.html#returning-a-view-versus-a-copy\n",
      "  This is separate from the ipykernel package so we can avoid doing imports until\n",
      "/home/mycicle/anaconda3/lib/python3.7/site-packages/ipykernel_launcher.py:7: SettingWithCopyWarning: \n",
      "A value is trying to be set on a copy of a slice from a DataFrame\n",
      "\n",
      "See the caveats in the documentation: http://pandas.pydata.org/pandas-docs/stable/user_guide/indexing.html#returning-a-view-versus-a-copy\n",
      "  import sys\n",
      "/home/mycicle/anaconda3/lib/python3.7/site-packages/ipykernel_launcher.py:5: SettingWithCopyWarning: \n",
      "A value is trying to be set on a copy of a slice from a DataFrame\n",
      "\n",
      "See the caveats in the documentation: http://pandas.pydata.org/pandas-docs/stable/user_guide/indexing.html#returning-a-view-versus-a-copy\n",
      "  \"\"\"\n",
      "/home/mycicle/anaconda3/lib/python3.7/site-packages/ipykernel_launcher.py:9: SettingWithCopyWarning: \n",
      "A value is trying to be set on a copy of a slice from a DataFrame\n",
      "\n",
      "See the caveats in the documentation: http://pandas.pydata.org/pandas-docs/stable/user_guide/indexing.html#returning-a-view-versus-a-copy\n",
      "  if __name__ == '__main__':\n"
     ]
    }
   ],
   "source": [
    "for rows in range(100000):\n",
    "    if(df[\"saleSizeCode\"][rows] == \"G\"):\n",
    "        df[\"saleSizeCode\"][rows] = 4\n",
    "    if(df[\"saleSizeCode\"][rows] == \"F\"):\n",
    "        df[\"saleSizeCode\"][rows] = 3\n",
    "    if(df[\"saleSizeCode\"][rows] == \"E\"):\n",
    "        df[\"saleSizeCode\"][rows] = 2\n",
    "    if(df[\"saleSizeCode\"][rows] == \"D\"):\n",
    "        df[\"saleSizeCode\"][rows] = 1"
   ]
  },
  {
   "cell_type": "code",
   "execution_count": 7,
   "metadata": {},
   "outputs": [
    {
     "data": {
      "text/html": [
       "<div>\n",
       "<style scoped>\n",
       "    .dataframe tbody tr th:only-of-type {\n",
       "        vertical-align: middle;\n",
       "    }\n",
       "\n",
       "    .dataframe tbody tr th {\n",
       "        vertical-align: top;\n",
       "    }\n",
       "\n",
       "    .dataframe thead th {\n",
       "        text-align: right;\n",
       "    }\n",
       "</style>\n",
       "<table border=\"1\" class=\"dataframe\">\n",
       "  <thead>\n",
       "    <tr style=\"text-align: right;\">\n",
       "      <th></th>\n",
       "      <th>income</th>\n",
       "      <th>firstDate</th>\n",
       "      <th>lastDate</th>\n",
       "      <th>amount</th>\n",
       "      <th>freqSales</th>\n",
       "      <th>saleSizeCode</th>\n",
       "      <th>starCustomer</th>\n",
       "      <th>lastSale</th>\n",
       "      <th>avrSale</th>\n",
       "      <th>class</th>\n",
       "    </tr>\n",
       "  </thead>\n",
       "  <tbody>\n",
       "    <tr>\n",
       "      <td>100</td>\n",
       "      <td>7</td>\n",
       "      <td>8803</td>\n",
       "      <td>9511</td>\n",
       "      <td>0.24</td>\n",
       "      <td>4</td>\n",
       "      <td>1</td>\n",
       "      <td>1</td>\n",
       "      <td>5</td>\n",
       "      <td>4.88</td>\n",
       "      <td>0</td>\n",
       "    </tr>\n",
       "    <tr>\n",
       "      <td>101</td>\n",
       "      <td>2</td>\n",
       "      <td>8611</td>\n",
       "      <td>9511</td>\n",
       "      <td>0.29</td>\n",
       "      <td>1</td>\n",
       "      <td>2</td>\n",
       "      <td>1</td>\n",
       "      <td>10</td>\n",
       "      <td>7.47</td>\n",
       "      <td>0</td>\n",
       "    </tr>\n",
       "    <tr>\n",
       "      <td>102</td>\n",
       "      <td>3</td>\n",
       "      <td>8812</td>\n",
       "      <td>9512</td>\n",
       "      <td>0.27</td>\n",
       "      <td>1</td>\n",
       "      <td>2</td>\n",
       "      <td>1</td>\n",
       "      <td>10</td>\n",
       "      <td>3.70</td>\n",
       "      <td>0</td>\n",
       "    </tr>\n",
       "    <tr>\n",
       "      <td>103</td>\n",
       "      <td>0</td>\n",
       "      <td>8708</td>\n",
       "      <td>9506</td>\n",
       "      <td>0.22</td>\n",
       "      <td>1</td>\n",
       "      <td>2</td>\n",
       "      <td>1</td>\n",
       "      <td>10</td>\n",
       "      <td>11.23</td>\n",
       "      <td>0</td>\n",
       "    </tr>\n",
       "    <tr>\n",
       "      <td>104</td>\n",
       "      <td>0</td>\n",
       "      <td>8911</td>\n",
       "      <td>9506</td>\n",
       "      <td>0.27</td>\n",
       "      <td>1</td>\n",
       "      <td>2</td>\n",
       "      <td>1</td>\n",
       "      <td>12</td>\n",
       "      <td>10.58</td>\n",
       "      <td>0</td>\n",
       "    </tr>\n",
       "    <tr>\n",
       "      <td>105</td>\n",
       "      <td>4</td>\n",
       "      <td>9109</td>\n",
       "      <td>9503</td>\n",
       "      <td>0.08</td>\n",
       "      <td>1</td>\n",
       "      <td>3</td>\n",
       "      <td>0</td>\n",
       "      <td>15</td>\n",
       "      <td>14.25</td>\n",
       "      <td>0</td>\n",
       "    </tr>\n",
       "    <tr>\n",
       "      <td>106</td>\n",
       "      <td>0</td>\n",
       "      <td>8608</td>\n",
       "      <td>9512</td>\n",
       "      <td>0.15</td>\n",
       "      <td>1</td>\n",
       "      <td>4</td>\n",
       "      <td>1</td>\n",
       "      <td>25</td>\n",
       "      <td>15.56</td>\n",
       "      <td>0</td>\n",
       "    </tr>\n",
       "    <tr>\n",
       "      <td>107</td>\n",
       "      <td>3</td>\n",
       "      <td>8702</td>\n",
       "      <td>9512</td>\n",
       "      <td>0.21</td>\n",
       "      <td>2</td>\n",
       "      <td>2</td>\n",
       "      <td>1</td>\n",
       "      <td>10</td>\n",
       "      <td>7.75</td>\n",
       "      <td>0</td>\n",
       "    </tr>\n",
       "    <tr>\n",
       "      <td>108</td>\n",
       "      <td>2</td>\n",
       "      <td>8608</td>\n",
       "      <td>9504</td>\n",
       "      <td>0.27</td>\n",
       "      <td>1</td>\n",
       "      <td>2</td>\n",
       "      <td>1</td>\n",
       "      <td>10</td>\n",
       "      <td>5.50</td>\n",
       "      <td>0</td>\n",
       "    </tr>\n",
       "    <tr>\n",
       "      <td>109</td>\n",
       "      <td>3</td>\n",
       "      <td>9401</td>\n",
       "      <td>9603</td>\n",
       "      <td>0.14</td>\n",
       "      <td>2</td>\n",
       "      <td>3</td>\n",
       "      <td>0</td>\n",
       "      <td>15</td>\n",
       "      <td>9.00</td>\n",
       "      <td>0</td>\n",
       "    </tr>\n",
       "    <tr>\n",
       "      <td>110</td>\n",
       "      <td>4</td>\n",
       "      <td>9401</td>\n",
       "      <td>9511</td>\n",
       "      <td>0.25</td>\n",
       "      <td>3</td>\n",
       "      <td>2</td>\n",
       "      <td>0</td>\n",
       "      <td>12</td>\n",
       "      <td>8.14</td>\n",
       "      <td>0</td>\n",
       "    </tr>\n",
       "    <tr>\n",
       "      <td>111</td>\n",
       "      <td>4</td>\n",
       "      <td>9310</td>\n",
       "      <td>9512</td>\n",
       "      <td>0.10</td>\n",
       "      <td>1</td>\n",
       "      <td>3</td>\n",
       "      <td>0</td>\n",
       "      <td>20</td>\n",
       "      <td>12.00</td>\n",
       "      <td>0</td>\n",
       "    </tr>\n",
       "    <tr>\n",
       "      <td>112</td>\n",
       "      <td>4</td>\n",
       "      <td>8611</td>\n",
       "      <td>9702</td>\n",
       "      <td>0.35</td>\n",
       "      <td>1</td>\n",
       "      <td>2</td>\n",
       "      <td>1</td>\n",
       "      <td>15</td>\n",
       "      <td>8.29</td>\n",
       "      <td>0</td>\n",
       "    </tr>\n",
       "    <tr>\n",
       "      <td>113</td>\n",
       "      <td>5</td>\n",
       "      <td>8608</td>\n",
       "      <td>9602</td>\n",
       "      <td>0.52</td>\n",
       "      <td>4</td>\n",
       "      <td>2</td>\n",
       "      <td>1</td>\n",
       "      <td>5</td>\n",
       "      <td>7.12</td>\n",
       "      <td>0</td>\n",
       "    </tr>\n",
       "    <tr>\n",
       "      <td>114</td>\n",
       "      <td>4</td>\n",
       "      <td>9412</td>\n",
       "      <td>9508</td>\n",
       "      <td>0.13</td>\n",
       "      <td>2</td>\n",
       "      <td>3</td>\n",
       "      <td>0</td>\n",
       "      <td>20</td>\n",
       "      <td>18.33</td>\n",
       "      <td>0</td>\n",
       "    </tr>\n",
       "    <tr>\n",
       "      <td>115</td>\n",
       "      <td>5</td>\n",
       "      <td>9109</td>\n",
       "      <td>9508</td>\n",
       "      <td>0.19</td>\n",
       "      <td>1</td>\n",
       "      <td>3</td>\n",
       "      <td>1</td>\n",
       "      <td>15</td>\n",
       "      <td>11.40</td>\n",
       "      <td>0</td>\n",
       "    </tr>\n",
       "    <tr>\n",
       "      <td>116</td>\n",
       "      <td>6</td>\n",
       "      <td>8608</td>\n",
       "      <td>9512</td>\n",
       "      <td>0.31</td>\n",
       "      <td>3</td>\n",
       "      <td>1</td>\n",
       "      <td>1</td>\n",
       "      <td>5</td>\n",
       "      <td>2.88</td>\n",
       "      <td>0</td>\n",
       "    </tr>\n",
       "    <tr>\n",
       "      <td>117</td>\n",
       "      <td>5</td>\n",
       "      <td>9010</td>\n",
       "      <td>9601</td>\n",
       "      <td>0.34</td>\n",
       "      <td>3</td>\n",
       "      <td>1</td>\n",
       "      <td>1</td>\n",
       "      <td>6</td>\n",
       "      <td>5.50</td>\n",
       "      <td>0</td>\n",
       "    </tr>\n",
       "    <tr>\n",
       "      <td>118</td>\n",
       "      <td>0</td>\n",
       "      <td>9001</td>\n",
       "      <td>9512</td>\n",
       "      <td>0.11</td>\n",
       "      <td>1</td>\n",
       "      <td>3</td>\n",
       "      <td>0</td>\n",
       "      <td>20</td>\n",
       "      <td>12.16</td>\n",
       "      <td>0</td>\n",
       "    </tr>\n",
       "    <tr>\n",
       "      <td>119</td>\n",
       "      <td>2</td>\n",
       "      <td>9102</td>\n",
       "      <td>9506</td>\n",
       "      <td>0.06</td>\n",
       "      <td>1</td>\n",
       "      <td>3</td>\n",
       "      <td>0</td>\n",
       "      <td>15</td>\n",
       "      <td>16.66</td>\n",
       "      <td>0</td>\n",
       "    </tr>\n",
       "    <tr>\n",
       "      <td>120</td>\n",
       "      <td>4</td>\n",
       "      <td>9103</td>\n",
       "      <td>9504</td>\n",
       "      <td>0.08</td>\n",
       "      <td>1</td>\n",
       "      <td>3</td>\n",
       "      <td>0</td>\n",
       "      <td>15</td>\n",
       "      <td>10.00</td>\n",
       "      <td>0</td>\n",
       "    </tr>\n",
       "    <tr>\n",
       "      <td>121</td>\n",
       "      <td>1</td>\n",
       "      <td>9109</td>\n",
       "      <td>9504</td>\n",
       "      <td>0.08</td>\n",
       "      <td>1</td>\n",
       "      <td>4</td>\n",
       "      <td>0</td>\n",
       "      <td>25</td>\n",
       "      <td>12.50</td>\n",
       "      <td>0</td>\n",
       "    </tr>\n",
       "    <tr>\n",
       "      <td>122</td>\n",
       "      <td>7</td>\n",
       "      <td>9109</td>\n",
       "      <td>9511</td>\n",
       "      <td>0.07</td>\n",
       "      <td>1</td>\n",
       "      <td>4</td>\n",
       "      <td>0</td>\n",
       "      <td>65</td>\n",
       "      <td>50.00</td>\n",
       "      <td>0</td>\n",
       "    </tr>\n",
       "    <tr>\n",
       "      <td>123</td>\n",
       "      <td>2</td>\n",
       "      <td>9011</td>\n",
       "      <td>9507</td>\n",
       "      <td>0.11</td>\n",
       "      <td>1</td>\n",
       "      <td>3</td>\n",
       "      <td>1</td>\n",
       "      <td>16</td>\n",
       "      <td>13.50</td>\n",
       "      <td>0</td>\n",
       "    </tr>\n",
       "    <tr>\n",
       "      <td>124</td>\n",
       "      <td>2</td>\n",
       "      <td>8912</td>\n",
       "      <td>9512</td>\n",
       "      <td>0.10</td>\n",
       "      <td>1</td>\n",
       "      <td>3</td>\n",
       "      <td>0</td>\n",
       "      <td>19</td>\n",
       "      <td>16.66</td>\n",
       "      <td>0</td>\n",
       "    </tr>\n",
       "    <tr>\n",
       "      <td>125</td>\n",
       "      <td>0</td>\n",
       "      <td>8702</td>\n",
       "      <td>9504</td>\n",
       "      <td>0.18</td>\n",
       "      <td>1</td>\n",
       "      <td>3</td>\n",
       "      <td>1</td>\n",
       "      <td>20</td>\n",
       "      <td>8.84</td>\n",
       "      <td>0</td>\n",
       "    </tr>\n",
       "    <tr>\n",
       "      <td>126</td>\n",
       "      <td>4</td>\n",
       "      <td>9309</td>\n",
       "      <td>9603</td>\n",
       "      <td>0.17</td>\n",
       "      <td>3</td>\n",
       "      <td>3</td>\n",
       "      <td>0</td>\n",
       "      <td>24</td>\n",
       "      <td>17.57</td>\n",
       "      <td>0</td>\n",
       "    </tr>\n",
       "    <tr>\n",
       "      <td>127</td>\n",
       "      <td>2</td>\n",
       "      <td>9102</td>\n",
       "      <td>9601</td>\n",
       "      <td>0.13</td>\n",
       "      <td>1</td>\n",
       "      <td>3</td>\n",
       "      <td>1</td>\n",
       "      <td>17</td>\n",
       "      <td>10.71</td>\n",
       "      <td>0</td>\n",
       "    </tr>\n",
       "    <tr>\n",
       "      <td>128</td>\n",
       "      <td>7</td>\n",
       "      <td>9602</td>\n",
       "      <td>9602</td>\n",
       "      <td>0.06</td>\n",
       "      <td>1</td>\n",
       "      <td>3</td>\n",
       "      <td>0</td>\n",
       "      <td>20</td>\n",
       "      <td>20.00</td>\n",
       "      <td>0</td>\n",
       "    </tr>\n",
       "    <tr>\n",
       "      <td>129</td>\n",
       "      <td>6</td>\n",
       "      <td>9501</td>\n",
       "      <td>9603</td>\n",
       "      <td>0.08</td>\n",
       "      <td>1</td>\n",
       "      <td>4</td>\n",
       "      <td>0</td>\n",
       "      <td>25</td>\n",
       "      <td>22.50</td>\n",
       "      <td>0</td>\n",
       "    </tr>\n",
       "    <tr>\n",
       "      <td>130</td>\n",
       "      <td>4</td>\n",
       "      <td>8807</td>\n",
       "      <td>9512</td>\n",
       "      <td>0.13</td>\n",
       "      <td>1</td>\n",
       "      <td>3</td>\n",
       "      <td>1</td>\n",
       "      <td>19</td>\n",
       "      <td>13.60</td>\n",
       "      <td>0</td>\n",
       "    </tr>\n",
       "    <tr>\n",
       "      <td>131</td>\n",
       "      <td>3</td>\n",
       "      <td>8612</td>\n",
       "      <td>9511</td>\n",
       "      <td>0.09</td>\n",
       "      <td>2</td>\n",
       "      <td>4</td>\n",
       "      <td>0</td>\n",
       "      <td>250</td>\n",
       "      <td>58.85</td>\n",
       "      <td>0</td>\n",
       "    </tr>\n",
       "    <tr>\n",
       "      <td>132</td>\n",
       "      <td>0</td>\n",
       "      <td>9211</td>\n",
       "      <td>9511</td>\n",
       "      <td>0.28</td>\n",
       "      <td>3</td>\n",
       "      <td>2</td>\n",
       "      <td>1</td>\n",
       "      <td>5</td>\n",
       "      <td>7.38</td>\n",
       "      <td>0</td>\n",
       "    </tr>\n",
       "    <tr>\n",
       "      <td>133</td>\n",
       "      <td>6</td>\n",
       "      <td>9510</td>\n",
       "      <td>9602</td>\n",
       "      <td>0.07</td>\n",
       "      <td>1</td>\n",
       "      <td>4</td>\n",
       "      <td>0</td>\n",
       "      <td>25</td>\n",
       "      <td>17.50</td>\n",
       "      <td>1</td>\n",
       "    </tr>\n",
       "    <tr>\n",
       "      <td>134</td>\n",
       "      <td>0</td>\n",
       "      <td>8804</td>\n",
       "      <td>9507</td>\n",
       "      <td>0.23</td>\n",
       "      <td>2</td>\n",
       "      <td>2</td>\n",
       "      <td>1</td>\n",
       "      <td>10</td>\n",
       "      <td>20.66</td>\n",
       "      <td>0</td>\n",
       "    </tr>\n",
       "    <tr>\n",
       "      <td>135</td>\n",
       "      <td>5</td>\n",
       "      <td>8712</td>\n",
       "      <td>9601</td>\n",
       "      <td>0.12</td>\n",
       "      <td>1</td>\n",
       "      <td>4</td>\n",
       "      <td>0</td>\n",
       "      <td>50</td>\n",
       "      <td>41.00</td>\n",
       "      <td>0</td>\n",
       "    </tr>\n",
       "    <tr>\n",
       "      <td>136</td>\n",
       "      <td>7</td>\n",
       "      <td>9401</td>\n",
       "      <td>9509</td>\n",
       "      <td>0.15</td>\n",
       "      <td>1</td>\n",
       "      <td>3</td>\n",
       "      <td>0</td>\n",
       "      <td>20</td>\n",
       "      <td>8.80</td>\n",
       "      <td>0</td>\n",
       "    </tr>\n",
       "    <tr>\n",
       "      <td>137</td>\n",
       "      <td>0</td>\n",
       "      <td>9410</td>\n",
       "      <td>9504</td>\n",
       "      <td>0.11</td>\n",
       "      <td>1</td>\n",
       "      <td>3</td>\n",
       "      <td>0</td>\n",
       "      <td>22</td>\n",
       "      <td>17.33</td>\n",
       "      <td>0</td>\n",
       "    </tr>\n",
       "    <tr>\n",
       "      <td>138</td>\n",
       "      <td>7</td>\n",
       "      <td>9402</td>\n",
       "      <td>9601</td>\n",
       "      <td>0.16</td>\n",
       "      <td>1</td>\n",
       "      <td>3</td>\n",
       "      <td>1</td>\n",
       "      <td>15</td>\n",
       "      <td>7.50</td>\n",
       "      <td>0</td>\n",
       "    </tr>\n",
       "    <tr>\n",
       "      <td>139</td>\n",
       "      <td>3</td>\n",
       "      <td>8909</td>\n",
       "      <td>9611</td>\n",
       "      <td>0.13</td>\n",
       "      <td>2</td>\n",
       "      <td>2</td>\n",
       "      <td>1</td>\n",
       "      <td>10</td>\n",
       "      <td>10.66</td>\n",
       "      <td>0</td>\n",
       "    </tr>\n",
       "  </tbody>\n",
       "</table>\n",
       "</div>"
      ],
      "text/plain": [
       "     income  firstDate  lastDate  amount  freqSales saleSizeCode  \\\n",
       "100       7       8803      9511    0.24          4            1   \n",
       "101       2       8611      9511    0.29          1            2   \n",
       "102       3       8812      9512    0.27          1            2   \n",
       "103       0       8708      9506    0.22          1            2   \n",
       "104       0       8911      9506    0.27          1            2   \n",
       "105       4       9109      9503    0.08          1            3   \n",
       "106       0       8608      9512    0.15          1            4   \n",
       "107       3       8702      9512    0.21          2            2   \n",
       "108       2       8608      9504    0.27          1            2   \n",
       "109       3       9401      9603    0.14          2            3   \n",
       "110       4       9401      9511    0.25          3            2   \n",
       "111       4       9310      9512    0.10          1            3   \n",
       "112       4       8611      9702    0.35          1            2   \n",
       "113       5       8608      9602    0.52          4            2   \n",
       "114       4       9412      9508    0.13          2            3   \n",
       "115       5       9109      9508    0.19          1            3   \n",
       "116       6       8608      9512    0.31          3            1   \n",
       "117       5       9010      9601    0.34          3            1   \n",
       "118       0       9001      9512    0.11          1            3   \n",
       "119       2       9102      9506    0.06          1            3   \n",
       "120       4       9103      9504    0.08          1            3   \n",
       "121       1       9109      9504    0.08          1            4   \n",
       "122       7       9109      9511    0.07          1            4   \n",
       "123       2       9011      9507    0.11          1            3   \n",
       "124       2       8912      9512    0.10          1            3   \n",
       "125       0       8702      9504    0.18          1            3   \n",
       "126       4       9309      9603    0.17          3            3   \n",
       "127       2       9102      9601    0.13          1            3   \n",
       "128       7       9602      9602    0.06          1            3   \n",
       "129       6       9501      9603    0.08          1            4   \n",
       "130       4       8807      9512    0.13          1            3   \n",
       "131       3       8612      9511    0.09          2            4   \n",
       "132       0       9211      9511    0.28          3            2   \n",
       "133       6       9510      9602    0.07          1            4   \n",
       "134       0       8804      9507    0.23          2            2   \n",
       "135       5       8712      9601    0.12          1            4   \n",
       "136       7       9401      9509    0.15          1            3   \n",
       "137       0       9410      9504    0.11          1            3   \n",
       "138       7       9402      9601    0.16          1            3   \n",
       "139       3       8909      9611    0.13          2            2   \n",
       "\n",
       "     starCustomer  lastSale  avrSale  class  \n",
       "100             1         5     4.88      0  \n",
       "101             1        10     7.47      0  \n",
       "102             1        10     3.70      0  \n",
       "103             1        10    11.23      0  \n",
       "104             1        12    10.58      0  \n",
       "105             0        15    14.25      0  \n",
       "106             1        25    15.56      0  \n",
       "107             1        10     7.75      0  \n",
       "108             1        10     5.50      0  \n",
       "109             0        15     9.00      0  \n",
       "110             0        12     8.14      0  \n",
       "111             0        20    12.00      0  \n",
       "112             1        15     8.29      0  \n",
       "113             1         5     7.12      0  \n",
       "114             0        20    18.33      0  \n",
       "115             1        15    11.40      0  \n",
       "116             1         5     2.88      0  \n",
       "117             1         6     5.50      0  \n",
       "118             0        20    12.16      0  \n",
       "119             0        15    16.66      0  \n",
       "120             0        15    10.00      0  \n",
       "121             0        25    12.50      0  \n",
       "122             0        65    50.00      0  \n",
       "123             1        16    13.50      0  \n",
       "124             0        19    16.66      0  \n",
       "125             1        20     8.84      0  \n",
       "126             0        24    17.57      0  \n",
       "127             1        17    10.71      0  \n",
       "128             0        20    20.00      0  \n",
       "129             0        25    22.50      0  \n",
       "130             1        19    13.60      0  \n",
       "131             0       250    58.85      0  \n",
       "132             1         5     7.38      0  \n",
       "133             0        25    17.50      1  \n",
       "134             1        10    20.66      0  \n",
       "135             0        50    41.00      0  \n",
       "136             0        20     8.80      0  \n",
       "137             0        22    17.33      0  \n",
       "138             1        15     7.50      0  \n",
       "139             1        10    10.66      0  "
      ]
     },
     "execution_count": 7,
     "metadata": {},
     "output_type": "execute_result"
    }
   ],
   "source": [
    "df[100:140]"
   ]
  },
  {
   "cell_type": "markdown",
   "metadata": {},
   "source": [
    "Now that everything is numerial we can do some visualizations\n",
    "First up lets do some histograms for the categorical variables"
   ]
  },
  {
   "cell_type": "code",
   "execution_count": 8,
   "metadata": {},
   "outputs": [
    {
     "data": {
      "image/png": "[encoded data removed]",
      "text/plain": [
       "<Figure size 1512x1512 with 9 Axes>"
      ]
     },
     "metadata": {
      "needs_background": "light"
     },
     "output_type": "display_data"
    }
   ],
   "source": [
    "predictor_cols = metric_var + cat_var + quant_var\n",
    "\n",
    "rows, cols = 3, 3\n",
    "fig, axis = pt.subplots(nrows=rows, ncols=cols, figsize=(7*cols, 7*rows))\n",
    "axis = axis.flatten()\n",
    "posn = 0\n",
    "\n",
    "for cols in (metric_var):\n",
    "    sns.boxplot(target, cols, data=df, ax=axis[posn])\n",
    "    axis[posn].set_ylabel(cols)\n",
    "    posn += 1\n",
    "    \n",
    "for cols in (cat_var + quant_var):\n",
    "    df.groupby(cols)[target].mean().plot(kind=\"bar\", ax=axis[posn])\n",
    "    posn += 1\n",
    "    \n",
    "\n",
    "pt.tight_layout()"
   ]
  },
  {
   "cell_type": "markdown",
   "metadata": {},
   "source": [
    "OK so from that we can tell a few things: firstDate, lastDate, lastSale, income, and avrSale have relatively little impact on whether or not someone picks a subscription or not.\n",
    "\n",
    "Amount of sales has a small impact.\n",
    "\n",
    "starCustomer status, the frequency of sales, and sale size have the largest impact on whether or not someone purchases a subscription\n",
    "\n",
    "As such, lets make a new df that only contains useful items"
   ]
  },
  {
   "cell_type": "code",
   "execution_count": 9,
   "metadata": {},
   "outputs": [],
   "source": [
    "useless_columns = [\"firstDate\", \"lastDate\", \"lastSale\", \"income\", \"avrSale\"]\n",
    "\n",
    "df = df.drop(columns=useless_columns)"
   ]
  },
  {
   "cell_type": "code",
   "execution_count": 10,
   "metadata": {},
   "outputs": [
    {
     "data": {
      "text/html": [
       "<div>\n",
       "<style scoped>\n",
       "    .dataframe tbody tr th:only-of-type {\n",
       "        vertical-align: middle;\n",
       "    }\n",
       "\n",
       "    .dataframe tbody tr th {\n",
       "        vertical-align: top;\n",
       "    }\n",
       "\n",
       "    .dataframe thead th {\n",
       "        text-align: right;\n",
       "    }\n",
       "</style>\n",
       "<table border=\"1\" class=\"dataframe\">\n",
       "  <thead>\n",
       "    <tr style=\"text-align: right;\">\n",
       "      <th></th>\n",
       "      <th>amount</th>\n",
       "      <th>freqSales</th>\n",
       "      <th>saleSizeCode</th>\n",
       "      <th>starCustomer</th>\n",
       "      <th>class</th>\n",
       "    </tr>\n",
       "  </thead>\n",
       "  <tbody>\n",
       "    <tr>\n",
       "      <td>0</td>\n",
       "      <td>0.06</td>\n",
       "      <td>1</td>\n",
       "      <td>4</td>\n",
       "      <td>0</td>\n",
       "      <td>0</td>\n",
       "    </tr>\n",
       "    <tr>\n",
       "      <td>1</td>\n",
       "      <td>0.16</td>\n",
       "      <td>4</td>\n",
       "      <td>4</td>\n",
       "      <td>1</td>\n",
       "      <td>1</td>\n",
       "    </tr>\n",
       "    <tr>\n",
       "      <td>2</td>\n",
       "      <td>0.20</td>\n",
       "      <td>4</td>\n",
       "      <td>2</td>\n",
       "      <td>0</td>\n",
       "      <td>0</td>\n",
       "    </tr>\n",
       "    <tr>\n",
       "      <td>3</td>\n",
       "      <td>0.13</td>\n",
       "      <td>2</td>\n",
       "      <td>4</td>\n",
       "      <td>0</td>\n",
       "      <td>0</td>\n",
       "    </tr>\n",
       "    <tr>\n",
       "      <td>4</td>\n",
       "      <td>0.10</td>\n",
       "      <td>1</td>\n",
       "      <td>4</td>\n",
       "      <td>0</td>\n",
       "      <td>0</td>\n",
       "    </tr>\n",
       "    <tr>\n",
       "      <td>...</td>\n",
       "      <td>...</td>\n",
       "      <td>...</td>\n",
       "      <td>...</td>\n",
       "      <td>...</td>\n",
       "      <td>...</td>\n",
       "    </tr>\n",
       "    <tr>\n",
       "      <td>99995</td>\n",
       "      <td>0.18</td>\n",
       "      <td>3</td>\n",
       "      <td>4</td>\n",
       "      <td>1</td>\n",
       "      <td>0</td>\n",
       "    </tr>\n",
       "    <tr>\n",
       "      <td>99996</td>\n",
       "      <td>0.12</td>\n",
       "      <td>2</td>\n",
       "      <td>3</td>\n",
       "      <td>1</td>\n",
       "      <td>0</td>\n",
       "    </tr>\n",
       "    <tr>\n",
       "      <td>99997</td>\n",
       "      <td>0.23</td>\n",
       "      <td>4</td>\n",
       "      <td>3</td>\n",
       "      <td>1</td>\n",
       "      <td>0</td>\n",
       "    </tr>\n",
       "    <tr>\n",
       "      <td>99998</td>\n",
       "      <td>0.12</td>\n",
       "      <td>2</td>\n",
       "      <td>4</td>\n",
       "      <td>0</td>\n",
       "      <td>1</td>\n",
       "    </tr>\n",
       "    <tr>\n",
       "      <td>99999</td>\n",
       "      <td>0.39</td>\n",
       "      <td>3</td>\n",
       "      <td>1</td>\n",
       "      <td>1</td>\n",
       "      <td>0</td>\n",
       "    </tr>\n",
       "  </tbody>\n",
       "</table>\n",
       "<p>100000 rows × 5 columns</p>\n",
       "</div>"
      ],
      "text/plain": [
       "       amount  freqSales saleSizeCode  starCustomer  class\n",
       "0        0.06          1            4             0      0\n",
       "1        0.16          4            4             1      1\n",
       "2        0.20          4            2             0      0\n",
       "3        0.13          2            4             0      0\n",
       "4        0.10          1            4             0      0\n",
       "...       ...        ...          ...           ...    ...\n",
       "99995    0.18          3            4             1      0\n",
       "99996    0.12          2            3             1      0\n",
       "99997    0.23          4            3             1      0\n",
       "99998    0.12          2            4             0      1\n",
       "99999    0.39          3            1             1      0\n",
       "\n",
       "[100000 rows x 5 columns]"
      ]
     },
     "execution_count": 10,
     "metadata": {},
     "output_type": "execute_result"
    }
   ],
   "source": [
    "df"
   ]
  },
  {
   "cell_type": "code",
   "execution_count": 11,
   "metadata": {},
   "outputs": [],
   "source": [
    "#lets define our predictor and target columns\n",
    "predictor_cols = [\"amount\", \"freqSales\", \"saleSizeCode\", \"starCustomer\"]\n",
    "target_cols = \"class\""
   ]
  },
  {
   "cell_type": "code",
   "execution_count": 12,
   "metadata": {},
   "outputs": [],
   "source": [
    "#lets split up our train and test sets\n",
    "target = [\"class\"]\n",
    "x, y = df[predictor_cols].values, df[target_cols].values\n",
    "shuffle_index = np.random.permutation(100000)\n",
    "x, y = x[shuffle_index], y[shuffle_index]\n",
    "x = pd.DataFrame(x, columns=predictor_cols)\n",
    "y = pd.DataFrame(y, columns=target)\n",
    "\n",
    "x_train, y_train = x[:70000], y[:70000]\n",
    "x_test, y_test = x[70000:], y[70000:]"
   ]
  },
  {
   "cell_type": "markdown",
   "metadata": {},
   "source": [
    "<h1>Machine Learning Modeling and Evaluation</h1>"
   ]
  },
  {
   "cell_type": "markdown",
   "metadata": {},
   "source": [
    "<strong>The models covered will be:</strong>\n",
    "<br>\n",
    "Logistic Regression\n",
    "<br>\n",
    "Support Vector Machines\n",
    "<br>\n",
    "Decision Tree Classifier\n",
    "<br>\n",
    "Gaussian Naive Bayes Classifier\n",
    "\n",
    "\n",
    "<strong>Required metrics will be:</strong>\n",
    "<br>\n",
    "Test Error Rate \n",
    "<br>\n",
    "ROC Curve\n",
    "<br>\n",
    "Confusion Matrix\n",
    "<br>\n",
    "Precision Recall Curve"
   ]
  },
  {
   "cell_type": "markdown",
   "metadata": {},
   "source": [
    "<h2>Logistic Regression</h2>"
   ]
  },
  {
   "cell_type": "code",
   "execution_count": 13,
   "metadata": {},
   "outputs": [
    {
     "data": {
      "text/plain": [
       "LogisticRegression(C=1.0, class_weight=None, dual=False, fit_intercept=True,\n",
       "                   intercept_scaling=1, l1_ratio=None, max_iter=100,\n",
       "                   multi_class='multinomial', n_jobs=None, penalty='l2',\n",
       "                   random_state=42, solver='newton-cg', tol=0.0001, verbose=0,\n",
       "                   warm_start=False)"
      ]
     },
     "execution_count": 13,
     "metadata": {},
     "output_type": "execute_result"
    }
   ],
   "source": [
    "from sklearn.linear_model import LogisticRegression\n",
    "logit = LogisticRegression(solver=\"newton-cg\", multi_class='multinomial', random_state=42)\n",
    "# logit = LogisticRegression(solver=\"newton-cg\", random_state=42)\n",
    "logit.fit(x_train, y_train.values.ravel())"
   ]
  },
  {
   "cell_type": "markdown",
   "metadata": {},
   "source": [
    "<h3>Cross Val Score</h3>"
   ]
  },
  {
   "cell_type": "code",
   "execution_count": 14,
   "metadata": {},
   "outputs": [
    {
     "data": {
      "text/plain": [
       "array([0.9481753 , 0.9481753 , 0.94833333, 0.94832472, 0.94832472])"
      ]
     },
     "execution_count": 14,
     "metadata": {},
     "output_type": "execute_result"
    }
   ],
   "source": [
    "from sklearn.model_selection import cross_val_score\n",
    "logit_df_score = logit.decision_function(x_test)\n",
    "logit_cv_score = cross_val_score(logit, x_test, y_test.values.ravel(), cv = 5)\n",
    "logit_cv_score"
   ]
  },
  {
   "cell_type": "markdown",
   "metadata": {},
   "source": [
    "<h3>ROC Curve</h3>"
   ]
  },
  {
   "cell_type": "code",
   "execution_count": 15,
   "metadata": {},
   "outputs": [],
   "source": [
    "def plot_roc_curve(fpr, tpr, thresholds, label=None):\n",
    "    pt.plot(fpr,tpr, 'g', linewidth=1.5, label=\"TPR\")\n",
    "    pt.plot([0,1], [0,1], 'b--')\n",
    "    pt.xlabel(\"False Positive Rate\")\n",
    "    pt.ylabel(\"True Positive Rate\")\n",
    "    pt.legend()\n",
    "    pt.title(label)\n",
    "    pt.show()"
   ]
  },
  {
   "cell_type": "code",
   "execution_count": 16,
   "metadata": {},
   "outputs": [
    {
     "data": {
      "image/png": "[encoded data removed]",
      "text/plain": [
       "<Figure size 432x288 with 1 Axes>"
      ]
     },
     "metadata": {
      "needs_background": "light"
     },
     "output_type": "display_data"
    }
   ],
   "source": [
    "from sklearn.metrics import roc_curve\n",
    "fpr, tpr, thresholds = roc_curve(y_test.values.ravel(), logit_df_score)\n",
    "plot_roc_curve(fpr, tpr, thresholds, label=\"Logit ROC Curve\")"
   ]
  },
  {
   "cell_type": "code",
   "execution_count": 17,
   "metadata": {},
   "outputs": [
    {
     "data": {
      "text/plain": [
       "0.6022691610230422"
      ]
     },
     "execution_count": 17,
     "metadata": {},
     "output_type": "execute_result"
    }
   ],
   "source": [
    "from sklearn.metrics import auc\n",
    "logit_area = auc(fpr, tpr)\n",
    "logit_area"
   ]
  },
  {
   "cell_type": "markdown",
   "metadata": {},
   "source": [
    "<h3>Precision Recall Curve</h3>"
   ]
  },
  {
   "cell_type": "code",
   "execution_count": 18,
   "metadata": {},
   "outputs": [],
   "source": [
    "def plot_precision_recall_curve(precisions, recalls, thresholds, label=None):\n",
    "    pt.plot(thresholds, precisions[:-1], 'b', linewidth=1.5, label=\"Precisions\")\n",
    "    pt.plot(thresholds, recalls[:-1], 'g--', linewidth=1.5, label=\"Recalls\")\n",
    "    pt.title(label)\n",
    "    pt.legend(loc=\"center left\")\n",
    "    pt.xlabel(\"Threshold\")\n",
    "    pt.ylim([0,1])\n",
    "    pt.show()"
   ]
  },
  {
   "cell_type": "code",
   "execution_count": 19,
   "metadata": {},
   "outputs": [
    {
     "data": {
      "image/png": "[encoded data removed]",
      "text/plain": [
       "<Figure size 432x288 with 1 Axes>"
      ]
     },
     "metadata": {
      "needs_background": "light"
     },
     "output_type": "display_data"
    }
   ],
   "source": [
    "from sklearn.metrics import precision_recall_curve\n",
    "from sklearn.model_selection import cross_val_predict\n",
    "logit_probas = logit.predict_proba(x_test)\n",
    "precisions, recalls, thresholds = precision_recall_curve(y_test, logit_probas[:,0])\n",
    "plot_precision_recall_curve(precisions, recalls, thresholds, label=\"Logit Precision Recall\")"
   ]
  },
  {
   "cell_type": "markdown",
   "metadata": {},
   "source": [
    "<h3>Confusion Matrix</h3>"
   ]
  },
  {
   "cell_type": "code",
   "execution_count": 20,
   "metadata": {},
   "outputs": [
    {
     "data": {
      "text/plain": [
       "array([[28448,     0],\n",
       "       [ 1552,     0]])"
      ]
     },
     "execution_count": 20,
     "metadata": {},
     "output_type": "execute_result"
    }
   ],
   "source": [
    "from sklearn.metrics import confusion_matrix\n",
    "logit_pred = logit.predict(x_test)\n",
    "logit_conf_mx = confusion_matrix(y_test, logit_pred)\n",
    "logit_conf_mx"
   ]
  },
  {
   "cell_type": "code",
   "execution_count": 21,
   "metadata": {},
   "outputs": [],
   "source": [
    "def plot_confusion_matrix(conf_mx):\n",
    "    pt.matshow(conf_mx, cmap=pt.cm.gray)\n",
    "    pt.show()"
   ]
  },
  {
   "cell_type": "code",
   "execution_count": 22,
   "metadata": {},
   "outputs": [
    {
     "data": {
      "image/png": "[encoded data removed]",
      "text/plain": [
       "<Figure size 288x288 with 1 Axes>"
      ]
     },
     "metadata": {
      "needs_background": "light"
     },
     "output_type": "display_data"
    }
   ],
   "source": [
    "plot_confusion_matrix(logit_conf_mx)"
   ]
  },
  {
   "cell_type": "markdown",
   "metadata": {},
   "source": [
    "<h1>Support Vector Machine</h1>"
   ]
  },
  {
   "cell_type": "code",
   "execution_count": 23,
   "metadata": {},
   "outputs": [],
   "source": [
    "from sklearn.svm import SVC\n",
    "svc = SVC(gamma='auto')\n",
    "svc = svc.fit(x_train, y_train.values.ravel())"
   ]
  },
  {
   "cell_type": "code",
   "execution_count": 24,
   "metadata": {},
   "outputs": [
    {
     "name": "stderr",
     "output_type": "stream",
     "text": [
      "/home/mycicle/anaconda3/lib/python3.7/site-packages/sklearn/utils/validation.py:724: DataConversionWarning: A column-vector y was passed when a 1d array was expected. Please change the shape of y to (n_samples, ), for example using ravel().\n",
      "  y = column_or_1d(y, warn=True)\n",
      "/home/mycicle/anaconda3/lib/python3.7/site-packages/sklearn/utils/validation.py:724: DataConversionWarning: A column-vector y was passed when a 1d array was expected. Please change the shape of y to (n_samples, ), for example using ravel().\n",
      "  y = column_or_1d(y, warn=True)\n",
      "/home/mycicle/anaconda3/lib/python3.7/site-packages/sklearn/utils/validation.py:724: DataConversionWarning: A column-vector y was passed when a 1d array was expected. Please change the shape of y to (n_samples, ), for example using ravel().\n",
      "  y = column_or_1d(y, warn=True)\n",
      "/home/mycicle/anaconda3/lib/python3.7/site-packages/sklearn/utils/validation.py:724: DataConversionWarning: A column-vector y was passed when a 1d array was expected. Please change the shape of y to (n_samples, ), for example using ravel().\n",
      "  y = column_or_1d(y, warn=True)\n",
      "/home/mycicle/anaconda3/lib/python3.7/site-packages/sklearn/utils/validation.py:724: DataConversionWarning: A column-vector y was passed when a 1d array was expected. Please change the shape of y to (n_samples, ), for example using ravel().\n",
      "  y = column_or_1d(y, warn=True)\n"
     ]
    },
    {
     "data": {
      "text/plain": [
       "array([0.9481753 , 0.9481753 , 0.94833333, 0.94832472, 0.94832472])"
      ]
     },
     "execution_count": 24,
     "metadata": {},
     "output_type": "execute_result"
    }
   ],
   "source": [
    "svc_cv_score = cross_val_score(svc, x_test, y_test, cv=5)\n",
    "svc_cv_score"
   ]
  },
  {
   "cell_type": "code",
   "execution_count": 25,
   "metadata": {},
   "outputs": [
    {
     "data": {
      "image/png": "[encoded data removed]",
      "text/plain": [
       "<Figure size 432x288 with 1 Axes>"
      ]
     },
     "metadata": {
      "needs_background": "light"
     },
     "output_type": "display_data"
    }
   ],
   "source": [
    "svc_df_scores = svc.decision_function(x_test)\n",
    "fpr, tpr, thresholds = roc_curve(y_test, svc_df_scores)\n",
    "plot_roc_curve(fpr, tpr, thresholds, label=\"Support Vector Machine ROC\")"
   ]
  },
  {
   "cell_type": "code",
   "execution_count": 26,
   "metadata": {},
   "outputs": [
    {
     "data": {
      "text/plain": [
       "0.5797805119922188"
      ]
     },
     "execution_count": 26,
     "metadata": {},
     "output_type": "execute_result"
    }
   ],
   "source": [
    "svc_area = auc(fpr, tpr)\n",
    "svc_area"
   ]
  },
  {
   "cell_type": "code",
   "execution_count": 27,
   "metadata": {},
   "outputs": [
    {
     "data": {
      "image/png": "[encoded data removed]",
      "text/plain": [
       "<Figure size 432x288 with 1 Axes>"
      ]
     },
     "metadata": {
      "needs_background": "light"
     },
     "output_type": "display_data"
    }
   ],
   "source": [
    "svc_pred = svc.predict(x_test)\n",
    "precisions, recalls, thresholds = precision_recall_curve(y_test, svc_df_scores)\n",
    "plot_precision_recall_curve(precisions, recalls, thresholds)"
   ]
  },
  {
   "cell_type": "code",
   "execution_count": 28,
   "metadata": {},
   "outputs": [
    {
     "data": {
      "text/plain": [
       "array([[28448,     0],\n",
       "       [ 1552,     0]])"
      ]
     },
     "execution_count": 28,
     "metadata": {},
     "output_type": "execute_result"
    }
   ],
   "source": [
    "svc_conf_mx = confusion_matrix(y_test, svc_pred)\n",
    "svc_conf_mx"
   ]
  },
  {
   "cell_type": "code",
   "execution_count": 29,
   "metadata": {},
   "outputs": [
    {
     "data": {
      "image/png": "[encoded data removed]",
      "text/plain": [
       "<Figure size 288x288 with 1 Axes>"
      ]
     },
     "metadata": {
      "needs_background": "light"
     },
     "output_type": "display_data"
    }
   ],
   "source": [
    "plot_confusion_matrix(svc_conf_mx)"
   ]
  },
  {
   "cell_type": "markdown",
   "metadata": {},
   "source": [
    "<h1>Gausian Naive Bayes"
   ]
  },
  {
   "cell_type": "code",
   "execution_count": 30,
   "metadata": {},
   "outputs": [
    {
     "name": "stdout",
     "output_type": "stream",
     "text": [
      "0.9389666666666666\n"
     ]
    }
   ],
   "source": [
    "from sklearn.naive_bayes import GaussianNB\n",
    "gnb = GaussianNB()\n",
    "gnb = gnb.fit(x_train, y_train.values.ravel())\n",
    "scoreGNB = gnb.score(x_test, y_test)\n",
    "print(scoreGNB)"
   ]
  },
  {
   "cell_type": "code",
   "execution_count": 31,
   "metadata": {},
   "outputs": [
    {
     "name": "stderr",
     "output_type": "stream",
     "text": [
      "/home/mycicle/anaconda3/lib/python3.7/site-packages/sklearn/utils/validation.py:724: DataConversionWarning: A column-vector y was passed when a 1d array was expected. Please change the shape of y to (n_samples, ), for example using ravel().\n",
      "  y = column_or_1d(y, warn=True)\n",
      "/home/mycicle/anaconda3/lib/python3.7/site-packages/sklearn/utils/validation.py:724: DataConversionWarning: A column-vector y was passed when a 1d array was expected. Please change the shape of y to (n_samples, ), for example using ravel().\n",
      "  y = column_or_1d(y, warn=True)\n",
      "/home/mycicle/anaconda3/lib/python3.7/site-packages/sklearn/utils/validation.py:724: DataConversionWarning: A column-vector y was passed when a 1d array was expected. Please change the shape of y to (n_samples, ), for example using ravel().\n",
      "  y = column_or_1d(y, warn=True)\n",
      "/home/mycicle/anaconda3/lib/python3.7/site-packages/sklearn/utils/validation.py:724: DataConversionWarning: A column-vector y was passed when a 1d array was expected. Please change the shape of y to (n_samples, ), for example using ravel().\n",
      "  y = column_or_1d(y, warn=True)\n",
      "/home/mycicle/anaconda3/lib/python3.7/site-packages/sklearn/utils/validation.py:724: DataConversionWarning: A column-vector y was passed when a 1d array was expected. Please change the shape of y to (n_samples, ), for example using ravel().\n",
      "  y = column_or_1d(y, warn=True)\n",
      "/home/mycicle/anaconda3/lib/python3.7/site-packages/sklearn/utils/validation.py:724: DataConversionWarning: A column-vector y was passed when a 1d array was expected. Please change the shape of y to (n_samples, ), for example using ravel().\n",
      "  y = column_or_1d(y, warn=True)\n",
      "/home/mycicle/anaconda3/lib/python3.7/site-packages/sklearn/utils/validation.py:724: DataConversionWarning: A column-vector y was passed when a 1d array was expected. Please change the shape of y to (n_samples, ), for example using ravel().\n",
      "  y = column_or_1d(y, warn=True)\n",
      "/home/mycicle/anaconda3/lib/python3.7/site-packages/sklearn/utils/validation.py:724: DataConversionWarning: A column-vector y was passed when a 1d array was expected. Please change the shape of y to (n_samples, ), for example using ravel().\n",
      "  y = column_or_1d(y, warn=True)\n",
      "/home/mycicle/anaconda3/lib/python3.7/site-packages/sklearn/utils/validation.py:724: DataConversionWarning: A column-vector y was passed when a 1d array was expected. Please change the shape of y to (n_samples, ), for example using ravel().\n",
      "  y = column_or_1d(y, warn=True)\n",
      "/home/mycicle/anaconda3/lib/python3.7/site-packages/sklearn/utils/validation.py:724: DataConversionWarning: A column-vector y was passed when a 1d array was expected. Please change the shape of y to (n_samples, ), for example using ravel().\n",
      "  y = column_or_1d(y, warn=True)\n"
     ]
    },
    {
     "data": {
      "text/plain": [
       "array([0.94301899, 0.94201933, 0.94333333, 0.942     , 0.942     ,\n",
       "       0.94166667, 0.93966667, 0.94566667, 0.93597866, 0.93897966])"
      ]
     },
     "execution_count": 31,
     "metadata": {},
     "output_type": "execute_result"
    }
   ],
   "source": [
    "gnb_cv_score = cross_val_score(gnb, x_test, y_test, cv=10)\n",
    "gnb_cv_score"
   ]
  },
  {
   "cell_type": "code",
   "execution_count": 32,
   "metadata": {},
   "outputs": [
    {
     "data": {
      "image/png": "[encoded data removed]",
      "text/plain": [
       "<Figure size 432x288 with 1 Axes>"
      ]
     },
     "metadata": {
      "needs_background": "light"
     },
     "output_type": "display_data"
    }
   ],
   "source": [
    "y_scores = gnb.predict_proba(x_test) #returns the probability and 1-probability in a 2d array\n",
    "fpr, tpr, threshold = roc_curve(y_test, y_scores[:,0]) #so just take the first column\n",
    "plot_roc_curve(fpr,tpr,threshold, label=\"Gaussian Naive Bayes ROC\")"
   ]
  },
  {
   "cell_type": "code",
   "execution_count": 33,
   "metadata": {},
   "outputs": [
    {
     "data": {
      "text/plain": [
       "0.4011738636165969"
      ]
     },
     "execution_count": 33,
     "metadata": {},
     "output_type": "execute_result"
    }
   ],
   "source": [
    "area = auc(fpr, tpr)\n",
    "area"
   ]
  },
  {
   "cell_type": "code",
   "execution_count": 34,
   "metadata": {},
   "outputs": [
    {
     "data": {
      "image/png": "[encoded data removed]",
      "text/plain": [
       "<Figure size 432x288 with 1 Axes>"
      ]
     },
     "metadata": {
      "needs_background": "light"
     },
     "output_type": "display_data"
    }
   ],
   "source": [
    "precisions, recalls, thresholds = precision_recall_curve(y_test, y_scores[:,0])\n",
    "plot_precision_recall_curve(precisions, recalls, thresholds)"
   ]
  },
  {
   "cell_type": "code",
   "execution_count": 35,
   "metadata": {},
   "outputs": [
    {
     "name": "stderr",
     "output_type": "stream",
     "text": [
      "/home/mycicle/anaconda3/lib/python3.7/site-packages/sklearn/utils/validation.py:724: DataConversionWarning: A column-vector y was passed when a 1d array was expected. Please change the shape of y to (n_samples, ), for example using ravel().\n",
      "  y = column_or_1d(y, warn=True)\n",
      "/home/mycicle/anaconda3/lib/python3.7/site-packages/sklearn/utils/validation.py:724: DataConversionWarning: A column-vector y was passed when a 1d array was expected. Please change the shape of y to (n_samples, ), for example using ravel().\n",
      "  y = column_or_1d(y, warn=True)\n",
      "/home/mycicle/anaconda3/lib/python3.7/site-packages/sklearn/utils/validation.py:724: DataConversionWarning: A column-vector y was passed when a 1d array was expected. Please change the shape of y to (n_samples, ), for example using ravel().\n",
      "  y = column_or_1d(y, warn=True)\n"
     ]
    },
    {
     "data": {
      "text/plain": [
       "array([[28218,   230],\n",
       "       [ 1525,    27]])"
      ]
     },
     "execution_count": 35,
     "metadata": {},
     "output_type": "execute_result"
    }
   ],
   "source": [
    "y_pred = cross_val_predict(gnb, x_test, y_test, cv=3)\n",
    "conf_mx = confusion_matrix(y_test, y_pred)\n",
    "conf_mx"
   ]
  },
  {
   "cell_type": "code",
   "execution_count": 36,
   "metadata": {},
   "outputs": [
    {
     "data": {
      "image/png": "[encoded data removed]",
      "text/plain": [
       "<Figure size 288x288 with 1 Axes>"
      ]
     },
     "metadata": {
      "needs_background": "light"
     },
     "output_type": "display_data"
    }
   ],
   "source": [
    "pt.matshow(conf_mx, cmap=pt.cm.gray)\n",
    "pt.show()"
   ]
  },
  {
   "cell_type": "markdown",
   "metadata": {},
   "source": [
    "<h1>Decision Tree Classifier</h1>"
   ]
  },
  {
   "cell_type": "code",
   "execution_count": 37,
   "metadata": {},
   "outputs": [],
   "source": [
    "from sklearn import tree\n",
    "tree = tree.DecisionTreeClassifier()\n",
    "tree = tree.fit(x_train, y_train.values.ravel())"
   ]
  },
  {
   "cell_type": "code",
   "execution_count": 38,
   "metadata": {},
   "outputs": [
    {
     "name": "stdout",
     "output_type": "stream",
     "text": [
      "0.9499142857142857\n"
     ]
    }
   ],
   "source": [
    "scoreTree = tree.score(x_train, y_train)\n",
    "print(scoreTree)"
   ]
  },
  {
   "cell_type": "code",
   "execution_count": 39,
   "metadata": {},
   "outputs": [
    {
     "data": {
      "text/plain": [
       "array([0.94900728, 0.94915012, 0.94929296, 0.94900728, 0.94915012,\n",
       "       0.94927847, 0.94884984, 0.94942135, 0.94899271, 0.94913559])"
      ]
     },
     "execution_count": 39,
     "metadata": {},
     "output_type": "execute_result"
    }
   ],
   "source": [
    "tree_cv_score = cross_val_score(tree, x_train, y_train, cv=10)\n",
    "tree_cv_score"
   ]
  },
  {
   "cell_type": "code",
   "execution_count": 40,
   "metadata": {},
   "outputs": [
    {
     "data": {
      "image/png": "[encoded data removed]",
      "text/plain": [
       "<Figure size 432x288 with 1 Axes>"
      ]
     },
     "metadata": {
      "needs_background": "light"
     },
     "output_type": "display_data"
    }
   ],
   "source": [
    "y_scores = tree.predict_proba(x_test)\n",
    "fpr, tpr, thresholds = roc_curve(y_test, y_scores[:,0])\n",
    "plot_roc_curve(fpr, tpr, thresholds, label=\"Decision Tree Classifier ROC\")"
   ]
  },
  {
   "cell_type": "code",
   "execution_count": 41,
   "metadata": {},
   "outputs": [
    {
     "data": {
      "text/plain": [
       "0.42686320011987866"
      ]
     },
     "execution_count": 41,
     "metadata": {},
     "output_type": "execute_result"
    }
   ],
   "source": [
    "area = auc(fpr, tpr)\n",
    "area"
   ]
  },
  {
   "cell_type": "code",
   "execution_count": 42,
   "metadata": {},
   "outputs": [
    {
     "data": {
      "image/png": "[encoded data removed]",
      "text/plain": [
       "<Figure size 432x288 with 1 Axes>"
      ]
     },
     "metadata": {
      "needs_background": "light"
     },
     "output_type": "display_data"
    }
   ],
   "source": [
    "precisions, recalls, thresholds = precision_recall_curve(y_test, y_scores[:,0])\n",
    "plot_precision_recall_curve(precisions, recalls, thresholds)"
   ]
  },
  {
   "cell_type": "code",
   "execution_count": 43,
   "metadata": {},
   "outputs": [
    {
     "data": {
      "text/plain": [
       "array([[28410,    38],\n",
       "       [ 1548,     4]])"
      ]
     },
     "execution_count": 43,
     "metadata": {},
     "output_type": "execute_result"
    }
   ],
   "source": [
    "y_pred = cross_val_predict(tree, x_test, y_test, cv=3)\n",
    "conf_mx = confusion_matrix(y_test, y_pred)\n",
    "conf_mx"
   ]
  },
  {
   "cell_type": "code",
   "execution_count": 44,
   "metadata": {},
   "outputs": [
    {
     "data": {
      "image/png": "[encoded data removed]",
      "text/plain": [
       "<Figure size 288x288 with 1 Axes>"
      ]
     },
     "metadata": {
      "needs_background": "light"
     },
     "output_type": "display_data"
    }
   ],
   "source": [
    "pt.matshow(conf_mx, cmap=pt.cm.gray)\n",
    "pt.show()"
   ]
  },
  {
   "cell_type": "markdown",
   "metadata": {},
   "source": [
    "In general  the gaussian naive bayes lassifier worked teh best, however there may have been some variable mistakes as the curves generated are highly anomalous. More testing will need to be done because of the difference between teh reported scores and accuracy and what the curves show. Confusion matricies show good results"
   ]
  }
 ],
 "metadata": {
  "kernelspec": {
   "display_name": "Python 3",
   "language": "python",
   "name": "python3"
  },
  "language_info": {
   "codemirror_mode": {
    "name": "ipython",
    "version": 3
   },
   "file_extension": ".py",
   "mimetype": "text/x-python",
   "name": "python",
   "nbconvert_exporter": "python",
   "pygments_lexer": "ipython3",
   "version": "3.7.4"
  }
 },
 "nbformat": 4,
 "nbformat_minor": 2
}
